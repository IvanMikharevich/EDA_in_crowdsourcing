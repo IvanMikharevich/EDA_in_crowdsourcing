{
  "nbformat": 4,
  "nbformat_minor": 0,
  "metadata": {
    "colab": {
      "name": "yandex_task_1.ipynb",
      "provenance": [],
      "collapsed_sections": []
    },
    "kernelspec": {
      "display_name": "Python 3",
      "name": "python3"
    },
    "language_info": {
      "name": "python"
    }
  },
  "cells": [
    {
      "cell_type": "code",
      "metadata": {
        "colab": {
          "resources": {
            "http://localhost:8080/nbextensions/google.colab/files.js": {
              "data": "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",
              "ok": true,
              "headers": [
                [
                  "content-type",
                  "application/javascript"
                ]
              ],
              "status": 200,
              "status_text": ""
            }
          },
          "base_uri": "https://localhost:8080/",
          "height": 73
        },
        "id": "BnxSkqHlVEsT",
        "outputId": "97767b73-1bad-417c-89dd-531d2233ef94"
      },
      "source": [
        "from google.colab import files\n",
        "uploaded = files.upload()"
      ],
      "execution_count": null,
      "outputs": [
        {
          "output_type": "display_data",
          "data": {
            "text/html": [
              "\n",
              "     <input type=\"file\" id=\"files-c777dfba-d422-4faf-a5d2-58fc1306a149\" name=\"files[]\" multiple disabled\n",
              "        style=\"border:none\" />\n",
              "     <output id=\"result-c777dfba-d422-4faf-a5d2-58fc1306a149\">\n",
              "      Upload widget is only available when the cell has been executed in the\n",
              "      current browser session. Please rerun this cell to enable.\n",
              "      </output>\n",
              "      <script src=\"/nbextensions/google.colab/files.js\"></script> "
            ],
            "text/plain": [
              "<IPython.core.display.HTML object>"
            ]
          },
          "metadata": {}
        },
        {
          "output_type": "stream",
          "name": "stdout",
          "text": [
            "Saving файл 1.txt to файл 1.txt\n"
          ]
        }
      ]
    },
    {
      "cell_type": "code",
      "metadata": {
        "id": "cepKzEydCWUf"
      },
      "source": [
        "import pandas as pd\n",
        "from pathlib import Path\n",
        "import os\n",
        "import matplotlib.pyplot as plt"
      ],
      "execution_count": null,
      "outputs": []
    },
    {
      "cell_type": "markdown",
      "metadata": {
        "id": "LylyTqQf-SUj"
      },
      "source": [
        "Загрузим файл, переведём его в dataframe и посмотрим на основную информацию о столбцах, также посмортим на саму таблицу"
      ]
    },
    {
      "cell_type": "code",
      "metadata": {
        "colab": {
          "base_uri": "https://localhost:8080/"
        },
        "id": "jPAHRJCwDtmc",
        "outputId": "a65758f9-7b51-4ed3-dfbe-3f16d3c3927e"
      },
      "source": [
        "def get_df(dir):\n",
        "    df = pd.read_csv(dir, sep='\\t', header=0, skipinitialspace=True)\n",
        "    return df\n",
        "\n",
        "workdir = Path(os.getcwd())\n",
        "df = get_df(workdir/'файл 1.txt')\n",
        "print(df.info())\n",
        "print(df.head(5))"
      ],
      "execution_count": null,
      "outputs": [
        {
          "output_type": "stream",
          "name": "stdout",
          "text": [
            "<class 'pandas.core.frame.DataFrame'>\n",
            "RangeIndex: 701827 entries, 0 to 701826\n",
            "Data columns (total 5 columns):\n",
            " #   Column       Non-Null Count   Dtype  \n",
            "---  ------       --------------   -----  \n",
            " 0   login        701827 non-null  object \n",
            " 1   tid          701827 non-null  float64\n",
            " 2   Microtasks   701827 non-null  float64\n",
            " 3   assigned_ts  701827 non-null  object \n",
            " 4   closed_ts    701827 non-null  object \n",
            "dtypes: float64(2), object(3)\n",
            "memory usage: 26.8+ MB\n",
            "None\n",
            "    login          tid  Microtasks          assigned_ts            closed_ts\n",
            "0  login0  190563850.0         4.0  2017-04-20 12:09:39  2017-04-20 13:13:01\n",
            "1  login0  190561754.0         1.0  2017-04-20 12:10:30  2017-04-20 12:28:29\n",
            "2  login0  190565906.0         4.0  2017-04-20 12:21:31  2017-04-20 13:30:10\n",
            "3  login0  190560246.0         1.0  2017-04-20 12:28:30  2017-04-20 13:13:56\n",
            "4  login0  190562168.0         2.0  2017-04-20 12:28:42  2017-04-20 13:14:50\n"
          ]
        }
      ]
    },
    {
      "cell_type": "markdown",
      "metadata": {
        "id": "0-z-Ru7U-9k4"
      },
      "source": [
        "Нужно перевести колонки assigned_ts и closed_ts в формат datetime"
      ]
    },
    {
      "cell_type": "code",
      "metadata": {
        "colab": {
          "base_uri": "https://localhost:8080/"
        },
        "id": "mJAdcMHWDyj4",
        "outputId": "f34d9ac5-2c26-4ad2-e518-2f7eb3bdf326"
      },
      "source": [
        "format = '%Y-%m-%d %H:%M:%S.%f'\n",
        "df['assigned_ts'] = pd.to_datetime(df['assigned_ts'], format=format)\n",
        "df['closed_ts'] = pd.to_datetime(df['closed_ts'], format=format)\n",
        "print(df.info())"
      ],
      "execution_count": null,
      "outputs": [
        {
          "output_type": "stream",
          "name": "stdout",
          "text": [
            "<class 'pandas.core.frame.DataFrame'>\n",
            "RangeIndex: 701827 entries, 0 to 701826\n",
            "Data columns (total 5 columns):\n",
            " #   Column       Non-Null Count   Dtype         \n",
            "---  ------       --------------   -----         \n",
            " 0   login        701827 non-null  object        \n",
            " 1   tid          701827 non-null  float64       \n",
            " 2   Microtasks   701827 non-null  float64       \n",
            " 3   assigned_ts  701827 non-null  datetime64[ns]\n",
            " 4   closed_ts    701827 non-null  datetime64[ns]\n",
            "dtypes: datetime64[ns](2), float64(2), object(1)\n",
            "memory usage: 26.8+ MB\n",
            "None\n"
          ]
        }
      ]
    },
    {
      "cell_type": "markdown",
      "metadata": {
        "id": "hCBWaAZF_Tq8"
      },
      "source": [
        "Проверим есть ли строки с одинаковым task_id, внутри которых можно вычислять статистики"
      ]
    },
    {
      "cell_type": "code",
      "metadata": {
        "colab": {
          "base_uri": "https://localhost:8080/",
          "height": 486
        },
        "id": "Ey9Wt56lD58L",
        "outputId": "3b16c919-d451-4ab5-e4a4-b971b99c1de3"
      },
      "source": [
        "print(df['tid'].value_counts())\n",
        "plt.hist(df['tid'], bins=int(len(df['tid']) * 0.001))\n",
        "plt.show()"
      ],
      "execution_count": null,
      "outputs": [
        {
          "output_type": "stream",
          "name": "stdout",
          "text": [
            "171470568.0    134\n",
            "188676794.0    118\n",
            "195476986.0     96\n",
            "196322338.0     86\n",
            "171266128.0     85\n",
            "              ... \n",
            "196591532.0      1\n",
            "169656678.0      1\n",
            "192747426.0      1\n",
            "193420012.0      1\n",
            "165647344.0      1\n",
            "Name: tid, Length: 635044, dtype: int64\n"
          ]
        },
        {
          "output_type": "display_data",
          "data": {
            "image/png": "[encoded data removed]",
            "text/plain": [
              "<Figure size 432x288 with 1 Axes>"
            ]
          },
          "metadata": {
            "needs_background": "light"
          }
        }
      ]
    },
    {
      "cell_type": "markdown",
      "metadata": {
        "id": "IiPo0PoG_4y0"
      },
      "source": [
        "Создадим колонку delta. В неё для каждой строки запишем время, прошедшее между выдачей и сдачей задания и разделим на количество микрозаданий в задании. Таким образом, в столбце delta находится среднее время выполнения одного микрозадания в задании (если микрозаданий >2)."
      ]
    },
    {
      "cell_type": "code",
      "metadata": {
        "colab": {
          "base_uri": "https://localhost:8080/"
        },
        "id": "R49YLSmEEVcn",
        "outputId": "24d489dd-e4bc-4c99-830d-0c7ca79a1a85"
      },
      "source": [
        "df['delta'] = (df['closed_ts'] - df['assigned_ts']) / df['Microtasks']\n",
        "df['delta'] = df['delta'].astype('timedelta64[s]')\n",
        "print(df)"
      ],
      "execution_count": null,
      "outputs": [
        {
          "output_type": "stream",
          "name": "stdout",
          "text": [
            "           login          tid  ...           closed_ts   delta\n",
            "0         login0  190563850.0  ... 2017-04-20 13:13:01   950.0\n",
            "1         login0  190561754.0  ... 2017-04-20 12:28:29  1079.0\n",
            "2         login0  190565906.0  ... 2017-04-20 13:30:10  1029.0\n",
            "3         login0  190560246.0  ... 2017-04-20 13:13:56  2726.0\n",
            "4         login0  190562168.0  ... 2017-04-20 13:14:50  1384.0\n",
            "...          ...          ...  ...                 ...     ...\n",
            "701822  login766  195656026.0  ... 2017-05-15 16:16:56  1409.0\n",
            "701823  login766  195656174.0  ... 2017-05-15 16:21:53  1700.0\n",
            "701824  login766  195656466.0  ... 2017-05-15 16:23:41  1803.0\n",
            "701825  login766  195656336.0  ... 2017-05-15 16:32:11   757.0\n",
            "701826  login766  195656078.0  ... 2017-05-15 16:17:32   676.0\n",
            "\n",
            "[701827 rows x 6 columns]\n"
          ]
        }
      ]
    },
    {
      "cell_type": "markdown",
      "metadata": {
        "id": "evoAVAzLBDP_"
      },
      "source": [
        "Посмотрев на основные статистики, я вижу, что минимальное значение отрицательно. Это значит, что есть записи, где задание сделано раньше, чем выдано."
      ]
    },
    {
      "cell_type": "code",
      "metadata": {
        "colab": {
          "base_uri": "https://localhost:8080/"
        },
        "id": "hbhpQROGX7n7",
        "outputId": "69fa6948-f356-40c2-8af5-b9ca8322e013"
      },
      "source": [
        "print(df['delta'].describe())"
      ],
      "execution_count": null,
      "outputs": [
        {
          "output_type": "stream",
          "name": "stdout",
          "text": [
            "count    7.018270e+05\n",
            "mean     5.679706e+02\n",
            "std      5.378995e+03\n",
            "min     -7.290000e+02\n",
            "25%      3.700000e+01\n",
            "50%      7.500000e+01\n",
            "75%      1.820000e+02\n",
            "max      1.074156e+06\n",
            "Name: delta, dtype: float64\n"
          ]
        }
      ]
    },
    {
      "cell_type": "markdown",
      "metadata": {
        "id": "CSPE_Qk5B2fV"
      },
      "source": [
        "Удостоверимся, что это случайная ошибка, посчитав кол-во записей, где delta отрицательная."
      ]
    },
    {
      "cell_type": "code",
      "metadata": {
        "colab": {
          "base_uri": "https://localhost:8080/"
        },
        "id": "i0qQudUuCTu8",
        "outputId": "d346a049-2d54-4dcd-c6c8-04d53936751b"
      },
      "source": [
        "print(len(df.loc[df['delta'] < 0]))"
      ],
      "execution_count": null,
      "outputs": [
        {
          "output_type": "stream",
          "name": "stdout",
          "text": [
            "1\n"
          ]
        }
      ]
    },
    {
      "cell_type": "markdown",
      "metadata": {
        "id": "yl00e7N9dO3E"
      },
      "source": [
        "# Метод №1 (основан на личных предположениях)"
      ]
    },
    {
      "cell_type": "markdown",
      "metadata": {
        "id": "SCdKsZ1w3qqS"
      },
      "source": [
        "Возьмём строки с положительными значениями delta и посмотрим на статистики. Видим, что среднее в три раза больше квантиля 75-ого порядка, а среднеквадратическое отклонение больше на порядок. Это говорит о том, что есть небольшей процент ассесоров, которые очень долго выполняют микрозадания. На первом этапе нужно предположить минимальное количество микрозаданий, которые выполняются за время delta. Я предположу, что только 25% заданий реально выполняются за время delta. Таким образом, нужно найти квантиль 25-ого порядка и посмотреть среднее время выполнения микрозадания.\n",
        "Квантиль 25-ого порядка равен 37 секунд, это значит, что 25% микрозаданий выполняються менее, чем за 37 секунд."
      ]
    },
    {
      "cell_type": "code",
      "metadata": {
        "colab": {
          "base_uri": "https://localhost:8080/"
        },
        "id": "38Fc6GHQZA6i",
        "outputId": "975432a8-07c1-4595-ceaf-e64271ff68fa"
      },
      "source": [
        "df = df.loc[df['delta'] > 0]\n",
        "print(df['delta'].describe())"
      ],
      "execution_count": null,
      "outputs": [
        {
          "output_type": "stream",
          "name": "stdout",
          "text": [
            "count    7.018260e+05\n",
            "mean     5.679724e+02\n",
            "std      5.378998e+03\n",
            "min      1.000000e+00\n",
            "25%      3.700000e+01\n",
            "50%      7.500000e+01\n",
            "75%      1.820000e+02\n",
            "max      1.074156e+06\n",
            "Name: delta, dtype: float64\n"
          ]
        }
      ]
    },
    {
      "cell_type": "markdown",
      "metadata": {
        "id": "EjpFwK8SBT_-"
      },
      "source": [
        "Теперь возьмем все записи, где delta меньше 37 секунд и посмотрим на статистики. Среднее значение равно 23 секунды. Исходя из своих личных предположений, я бы считал стоимость одного микрозадания как 23*N/30.\n"
      ]
    },
    {
      "cell_type": "code",
      "metadata": {
        "colab": {
          "base_uri": "https://localhost:8080/"
        },
        "id": "MLvB7lrD_jVG",
        "outputId": "37a45c65-3767-4588-a7aa-4b9a90aa75b9"
      },
      "source": [
        "print(df.loc[df['delta'] < 37]['delta'].describe())"
      ],
      "execution_count": null,
      "outputs": [
        {
          "output_type": "stream",
          "name": "stdout",
          "text": [
            "count    173747.000000\n",
            "mean         23.099691\n",
            "std           8.013615\n",
            "min           1.000000\n",
            "25%          17.000000\n",
            "50%          23.000000\n",
            "75%          30.000000\n",
            "max          36.000000\n",
            "Name: delta, dtype: float64\n"
          ]
        }
      ]
    },
    {
      "cell_type": "markdown",
      "metadata": {
        "id": "9fsjAZIYdVrg"
      },
      "source": [
        "# Метод №2 (основан на личных предположениях)"
      ]
    },
    {
      "cell_type": "markdown",
      "metadata": {
        "id": "FDHdy3TJJdmS"
      },
      "source": [
        "Постараемся учесть влияние конкретных ассесоров, сгруппировав delta по колонке login. Допустим, что каждый ассесор 25% микрозаданий выполняет точно за время delta. Посчитаем квантиль 25-ого порядка для каждого ассесора. Выведем статистики. Допустим, что 25%\n",
        "ассеров точно выполняют 25% микрозаданий за время delta. Таким образом, повторно возьмем квантиль 25-ого порядка."
      ]
    },
    {
      "cell_type": "code",
      "metadata": {
        "colab": {
          "base_uri": "https://localhost:8080/"
        },
        "id": "1N8Nao-tFqn_",
        "outputId": "b59f566d-3070-495e-9b3c-672a657ace34"
      },
      "source": [
        "group_login = df.groupby('login', as_index=False)['delta']\n",
        "average = group_login.quantile(q=0.25)['delta']\n",
        "print(average.describe())"
      ],
      "execution_count": null,
      "outputs": [
        {
          "output_type": "stream",
          "name": "stdout",
          "text": [
            "count      767.000000\n",
            "mean       147.340613\n",
            "std       1048.766541\n",
            "min         12.000000\n",
            "25%         38.000000\n",
            "50%         57.000000\n",
            "75%         94.000000\n",
            "max      28263.000000\n",
            "Name: delta, dtype: float64\n"
          ]
        }
      ]
    },
    {
      "cell_type": "markdown",
      "metadata": {
        "id": "CXmHyIAWEcDC"
      },
      "source": [
        "Теперь возьмем все записи, где delta меньше 38 секунд и посмотрим на статистики. Среднее значение рано 23.5 секунды. Исходя из своих личных предположений, я бы считал стоимость одного микрозадания как 23.5*N/30.\n"
      ]
    },
    {
      "cell_type": "code",
      "metadata": {
        "colab": {
          "base_uri": "https://localhost:8080/"
        },
        "id": "NQV-HccREcaN",
        "outputId": "c285eef4-2699-4412-b9b7-d725842c7027"
      },
      "source": [
        "print(df.loc[df['delta'] < 38]['delta'].describe())"
      ],
      "execution_count": null,
      "outputs": [
        {
          "output_type": "stream",
          "name": "stdout",
          "text": [
            "count    179701.000000\n",
            "mean         23.560247\n",
            "std           8.263177\n",
            "min           1.000000\n",
            "25%          17.000000\n",
            "50%          24.000000\n",
            "75%          30.000000\n",
            "max          37.000000\n",
            "Name: delta, dtype: float64\n"
          ]
        }
      ]
    },
    {
      "cell_type": "markdown",
      "metadata": {
        "id": "mbSBB5tLKPdB"
      },
      "source": [
        "# Метод №3 "
      ]
    },
    {
      "cell_type": "markdown",
      "metadata": {
        "id": "2MlMMS-RIVj7"
      },
      "source": [
        "Посторим график средних времен выполнения одного микрозадания для верхних границ в диапазоне от 10 до 1000 секунд. Примерно после 40 секунд производная среднего значения по верхней границе заметно падает. Это значит, что после 40 секунд начинаются выбросы. Можно установить стоимость выполнения одного микрозадания, как 40*N/30."
      ]
    },
    {
      "cell_type": "code",
      "metadata": {
        "colab": {
          "base_uri": "https://localhost:8080/",
          "height": 283
        },
        "id": "-nXCxSsmFnu_",
        "outputId": "31f9945b-3b9b-4abe-c541-04c10f5b2e22"
      },
      "source": [
        "x, y = [], []\n",
        "for i in range(10, 1000):\n",
        "  x.append(i)\n",
        "  y.append(df.loc[df['delta'] < i]['delta'].mean())\n",
        "plt.plot(x, y)"
      ],
      "execution_count": null,
      "outputs": [
        {
          "output_type": "execute_result",
          "data": {
            "text/plain": [
              "[<matplotlib.lines.Line2D at 0x7f0f8da1fdd0>]"
            ]
          },
          "metadata": {},
          "execution_count": 34
        },
        {
          "output_type": "display_data",
          "data": {
            "image/png": "[encoded data removed]",
            "text/plain": [
              "<Figure size 432x288 with 1 Axes>"
            ]
          },
          "metadata": {
            "needs_background": "light"
          }
        }
      ]
    },
    {
      "cell_type": "markdown",
      "metadata": {
        "id": "S9kju8NkNkNu"
      },
      "source": [
        "Посмотрим на количество выполнения одного и того же задания разными людьми."
      ]
    },
    {
      "cell_type": "code",
      "metadata": {
        "colab": {
          "base_uri": "https://localhost:8080/"
        },
        "id": "sdHEEwxQNv14",
        "outputId": "702eda9e-d8e9-4827-f90b-a7476dcf3157"
      },
      "source": [
        "val_count = df['tid'].value_counts()\n",
        "print(val_count)"
      ],
      "execution_count": null,
      "outputs": [
        {
          "output_type": "stream",
          "name": "stdout",
          "text": [
            "171470568.0    134\n",
            "188676794.0    118\n",
            "195476986.0     96\n",
            "196322338.0     86\n",
            "171266128.0     85\n",
            "              ... \n",
            "196591532.0      1\n",
            "169656678.0      1\n",
            "192747426.0      1\n",
            "193420012.0      1\n",
            "165647344.0      1\n",
            "Name: tid, Length: 635044, dtype: int64\n"
          ]
        }
      ]
    },
    {
      "cell_type": "markdown",
      "metadata": {
        "id": "3Iu34PWnWExc"
      },
      "source": [
        "На статистиках ниже можно увидеть, что сами задания можно дифференцировать по времени. Какие-то выполняються дольше, какие-то быстрее. "
      ]
    },
    {
      "cell_type": "code",
      "metadata": {
        "colab": {
          "base_uri": "https://localhost:8080/"
        },
        "id": "SnEZjA00OBVG",
        "outputId": "7d02d156-240e-4cdc-8102-685f3873e3a2"
      },
      "source": [
        "print(df.loc[df['tid'] == 171470568.0]['delta'].describe())"
      ],
      "execution_count": null,
      "outputs": [
        {
          "output_type": "stream",
          "name": "stdout",
          "text": [
            "count      134.000000\n",
            "mean      2133.320896\n",
            "std       5901.356344\n",
            "min          9.000000\n",
            "25%         42.250000\n",
            "50%         92.000000\n",
            "75%        428.750000\n",
            "max      31834.000000\n",
            "Name: delta, dtype: float64\n"
          ]
        }
      ]
    },
    {
      "cell_type": "code",
      "metadata": {
        "colab": {
          "base_uri": "https://localhost:8080/"
        },
        "id": "tJ5O1b9bVlV2",
        "outputId": "1003b53f-e27a-4078-befe-6ab47b722eb1"
      },
      "source": [
        "print(df.loc[df['tid'] == 188676794.0]['delta'].describe())"
      ],
      "execution_count": null,
      "outputs": [
        {
          "output_type": "stream",
          "name": "stdout",
          "text": [
            "count      118.000000\n",
            "mean      1492.864407\n",
            "std       2943.704753\n",
            "min          8.000000\n",
            "25%         41.000000\n",
            "50%        117.500000\n",
            "75%       1067.500000\n",
            "max      10748.000000\n",
            "Name: delta, dtype: float64\n"
          ]
        }
      ]
    },
    {
      "cell_type": "code",
      "metadata": {
        "colab": {
          "base_uri": "https://localhost:8080/"
        },
        "id": "xJW-Hxh9Vlp0",
        "outputId": "5c8d79ff-c1af-4f32-d3ac-805cd1da1401"
      },
      "source": [
        "print(df.loc[df['tid'] == 195476986.0]['delta'].describe())"
      ],
      "execution_count": null,
      "outputs": [
        {
          "output_type": "stream",
          "name": "stdout",
          "text": [
            "count       96.000000\n",
            "mean       945.958333\n",
            "std       1994.316967\n",
            "min         25.000000\n",
            "25%         69.750000\n",
            "50%        194.500000\n",
            "75%        911.500000\n",
            "max      12156.000000\n",
            "Name: delta, dtype: float64\n"
          ]
        }
      ]
    },
    {
      "cell_type": "code",
      "metadata": {
        "colab": {
          "base_uri": "https://localhost:8080/"
        },
        "id": "tBkyUuICVx_1",
        "outputId": "e179eaae-b22e-404c-84da-5475daa653b6"
      },
      "source": [
        "print(df.loc[df['tid'] == 171266128.0]['delta'].describe())"
      ],
      "execution_count": null,
      "outputs": [
        {
          "output_type": "stream",
          "name": "stdout",
          "text": [
            "count       85.000000\n",
            "mean       972.823529\n",
            "std       3126.989421\n",
            "min          2.000000\n",
            "25%         22.000000\n",
            "50%         41.000000\n",
            "75%        158.000000\n",
            "max      15906.000000\n",
            "Name: delta, dtype: float64\n"
          ]
        }
      ]
    },
    {
      "cell_type": "markdown",
      "metadata": {
        "id": "XzVB7VBJUdFw"
      },
      "source": [
        "Ниже можно посмотреть среднии значения статистик для топ-15 заданий по количеству повторов."
      ]
    },
    {
      "cell_type": "code",
      "metadata": {
        "colab": {
          "base_uri": "https://localhost:8080/"
        },
        "id": "UBpM3g_GOorz",
        "outputId": "9e4db4d2-608f-43df-f62d-a6804192a323"
      },
      "source": [
        "idx = val_count.index\n",
        "num = 15\n",
        "for i in range(num):\n",
        "  stat = df.loc[df['tid'] == idx[i]]['delta'].describe()\n",
        "  if i > 0:\n",
        "    stat += stat\n",
        "  else:\n",
        "    pass\n",
        "print(stat/num)"
      ],
      "execution_count": null,
      "outputs": [
        {
          "output_type": "stream",
          "name": "stdout",
          "text": [
            "count    10.533333\n",
            "mean     16.291983\n",
            "std      15.011533\n",
            "min       1.333333\n",
            "25%       6.000000\n",
            "50%      12.000000\n",
            "75%      20.866667\n",
            "max      82.533333\n",
            "Name: delta, dtype: float64\n"
          ]
        }
      ]
    },
    {
      "cell_type": "markdown",
      "metadata": {
        "id": "WUfdG-S8dZ3z"
      },
      "source": [
        "# Метод №4"
      ]
    },
    {
      "cell_type": "markdown",
      "metadata": {
        "id": "j9t4zUp8bX2Z"
      },
      "source": [
        "Для каждого задания, для которого есть больше 30 записей в таблице, расчитаем квантиль порядка 25 и посмотрим на среднее. Таким образом, в каждом задании для которого есть 30 значений найдём оптимальное время в которое укладываются 25% ассесоров и посчитаем среднее по этим временам.\n",
        "Этот подход, по моему мнению, наилучший. Итого 58*N/30"
      ]
    },
    {
      "cell_type": "code",
      "metadata": {
        "colab": {
          "base_uri": "https://localhost:8080/"
        },
        "id": "bVlvx_OmXdLH",
        "outputId": "b9c8d4b0-f294-4ac0-c3a4-43b46c250157"
      },
      "source": [
        "group_tid = df.groupby('tid', as_index=False)['delta']\n",
        "new_df = group_tid.count()['delta']\n",
        "new_df = group_tid.quantile(q=0.25).loc[new_df > 30]\n",
        "print(new_df.describe()['delta'])"
      ],
      "execution_count": null,
      "outputs": [
        {
          "output_type": "stream",
          "name": "stdout",
          "text": [
            "count    107.000000\n",
            "mean      57.593458\n",
            "std       25.674039\n",
            "min       20.000000\n",
            "25%       41.000000\n",
            "50%       50.000000\n",
            "75%       69.250000\n",
            "max      170.000000\n",
            "Name: delta, dtype: float64\n"
          ]
        }
      ]
    },
    {
      "cell_type": "markdown",
      "metadata": {
        "id": "JnRfU7Yfdddw"
      },
      "source": [
        "# Вывод\n",
        "На мой взгляд, только подход №3 в полной мере может убрать влияние индивидуальных челевоческих особеностей работы и усреднить сложность заданий. Чтобы уменьшить ошибку я бы взял среднее по методам №2, 3, 4. Итого стоимость одного микрозадания 40*N/30 = 1.33N. "
      ]
    }
  ]
}